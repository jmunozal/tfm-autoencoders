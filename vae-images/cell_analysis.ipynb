{
 "cells": [
  {
   "cell_type": "markdown",
   "metadata": {},
   "source": [
    "# VAE Training"
   ]
  },
  {
   "cell_type": "markdown",
   "metadata": {},
   "source": [
    "## imports"
   ]
  },
  {
   "cell_type": "code",
   "execution_count": 6,
   "metadata": {},
   "outputs": [],
   "source": [
    "import os, time\n",
    "from images.Metrics import calculate_metrics\n",
    "import numpy as np\n",
    "\n",
    "from model.VariationalAutoencoder import VariationalAutoencoder\n",
    "\n",
    "from keras.preprocessing.image import ImageDataGenerator, load_img, save_img, img_to_array, array_to_img"
   ]
  },
  {
   "cell_type": "markdown",
   "metadata": {},
   "source": [
    "# environment variables"
   ]
  },
  {
   "cell_type": "code",
   "execution_count": 7,
   "metadata": {},
   "outputs": [],
   "source": [
    "MODEL_FOLDER = os.environ.get('HOME') + '/model3/weights'\n",
    "FILE_MODEL = 'weights.h5'\n",
    "DATA_FOLDER = '/Volumes/My Passport/PFM/output/training_png'\n",
    "RUN_FOLDER =  '/Volumes/My Passport/PFM/run/'"
   ]
  },
  {
   "cell_type": "markdown",
   "metadata": {},
   "source": [
    "# VAE"
   ]
  },
  {
   "cell_type": "markdown",
   "metadata": {},
   "source": [
    "## model variables"
   ]
  },
  {
   "cell_type": "code",
   "execution_count": 25,
   "metadata": {},
   "outputs": [],
   "source": [
    "vae = VariationalAutoencoder(image_folder=DATA_FOLDER, run_folder=RUN_FOLDER, train_mode= False, z_dim=200, use_dropout=True, use_batch_norm=True)\n",
    "vae.model.load_weights(os.path.join(MODEL_FOLDER, 'weights.h5'))  "
   ]
  },
  {
   "cell_type": "code",
   "execution_count": 29,
   "metadata": {},
   "outputs": [],
   "source": [
    "from PIL import Image\n",
    "from PIL.ImageShow import show\n",
    "\n",
    "#image_path = '/Volumes/My Passport/PFM/output/training_png/Week9_39301_G11_4_Cells_34.png'\n",
    "image_path = '/Volumes/My Passport/PFM/output/training_png/Week7_34641_E11_1_Cells_106.png'\n",
    "#image_path = '/Volumes/My Passport/PFM/output/training_png/Week5_28921_B02_3_Cells_39.png'\n",
    "#image_path = '/Volumes/My Passport/PFM/output/training_png/Week7_34641_B02_1_Cells_28.png'\n",
    "\n",
    "img = Image.open(image_path)\n",
    "\n",
    "#print(\"max: \" + str(np.amax(array_img)))\n",
    "\n",
    "#print(array_img)\n",
    "\n",
    "#img = Image.open(os.sep.join([self.images_folder, 'training', i]))\n",
    "array_img = img_to_array(img)  # keras\n",
    "array_img = np.expand_dims(array_img, axis=0)\n",
    "z_result = vae.encoder.predict(array_img)\n",
    "reco = vae.decoder.predict(z_result).squeeze()\n",
    "outimg = array_to_img(reco, scale=True)\n",
    "\n",
    "\n",
    "img.show()\n",
    "outimg.show()"
   ]
  },
  {
   "cell_type": "markdown",
   "metadata": {},
   "source": [
    "# Metrics "
   ]
  },
  {
   "cell_type": "code",
   "execution_count": null,
   "metadata": {},
   "outputs": [],
   "source": [
    "calculate_metrics(vae = vae, path = DATA_FOLDER)"
   ]
  }
 ],
 "metadata": {
  "kernelspec": {
   "display_name": "Python 3",
   "language": "python",
   "name": "python3"
  },
  "language_info": {
   "codemirror_mode": {
    "name": "ipython",
    "version": 3
   },
   "file_extension": ".py",
   "mimetype": "text/x-python",
   "name": "python",
   "nbconvert_exporter": "python",
   "pygments_lexer": "ipython3",
   "version": "3.6.1"
  }
 },
 "nbformat": 4,
 "nbformat_minor": 2
}
