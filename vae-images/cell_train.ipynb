{
 "cells": [
  {
   "cell_type": "markdown",
   "metadata": {},
   "source": [
    "## imports"
   ]
  },
  {
   "cell_type": "code",
   "execution_count": 1,
   "metadata": {},
   "outputs": [
    {
     "name": "stderr",
     "output_type": "stream",
     "text": [
      "Using TensorFlow backend.\n"
     ]
    }
   ],
   "source": [
    "import os, time\n",
    "from glob import glob\n",
    "import numpy as np\n",
    "\n",
    "from model.VariationalAutoencoder import VariationalAutoencoder\n",
    "from keras.preprocessing.image import ImageDataGenerator\n"
   ]
  },
  {
   "cell_type": "markdown",
   "metadata": {},
   "source": [
    "# VAE"
   ]
  },
  {
   "cell_type": "markdown",
   "metadata": {},
   "source": [
    "## model variables"
   ]
  },
  {
   "cell_type": "code",
   "execution_count": 2,
   "metadata": {},
   "outputs": [],
   "source": [
    "DATETIME = time.strftime(\"%Y%m%d-%H%M%S\")\n",
    "\n",
    "LEARNING_RATE = 0.0005\n",
    "R_LOSS_FACTOR = 1000\n",
    "\n",
    "cloud_training = False\n",
    "\n",
    "if cloud_training :\n",
    "    BATCH_SIZE = 35\n",
    "    EPOCHS = 100\n",
    "    DATA_FOLDER = '/data/train'\n",
    "    RUN_FOLDER = '/data/run/'\n",
    "else:\n",
    "    BATCH_SIZE = 5\n",
    "    EPOCHS = 1\n",
    "    DATA_FOLDER = '/Volumes/My Passport/PFM/fastcheck'\n",
    "    RUN_FOLDER =  '/Volumes/My Passport/PFM/run/'\n",
    "    \n",
    "run_id = '0001'\n",
    "data_name = 'cells'\n",
    "RUN_FOLDER += '_'.join([run_id, data_name, DATETIME])\n",
    "\n",
    "INPUT_DIM = (128,128,3)"
   ]
  },
  {
   "cell_type": "markdown",
   "metadata": {},
   "source": [
    "## training setup"
   ]
  },
  {
   "cell_type": "code",
   "execution_count": 3,
   "metadata": {},
   "outputs": [
    {
     "name": "stdout",
     "output_type": "stream",
     "text": [
      "Model: \"model_2\"\n__________________________________________________________________________________________________\nLayer (type)                    Output Shape         Param #     Connected to                     \n==================================================================================================\nencoder_input (InputLayer)      (None, 128, 128, 3)  0                                            \n__________________________________________________________________________________________________\nencoder_conv_1 (Conv2D)         (None, 64, 64, 32)   896         encoder_input[0][0]              \n__________________________________________________________________________________________________\nbatch_normalization_1 (BatchNor (None, 64, 64, 32)   128         encoder_conv_1[0][0]             \n__________________________________________________________________________________________________\nleaky_re_lu_1 (LeakyReLU)       (None, 64, 64, 32)   0           batch_normalization_1[0][0]      \n__________________________________________________________________________________________________\nencoder_conv_2 (Conv2D)         (None, 32, 32, 64)   18496       leaky_re_lu_1[0][0]              \n__________________________________________________________________________________________________\nbatch_normalization_2 (BatchNor (None, 32, 32, 64)   256         encoder_conv_2[0][0]             \n__________________________________________________________________________________________________\nleaky_re_lu_2 (LeakyReLU)       (None, 32, 32, 64)   0           batch_normalization_2[0][0]      \n__________________________________________________________________________________________________\nencoder_conv_3 (Conv2D)         (None, 16, 16, 64)   36928       leaky_re_lu_2[0][0]              \n__________________________________________________________________________________________________\nbatch_normalization_3 (BatchNor (None, 16, 16, 64)   256         encoder_conv_3[0][0]             \n__________________________________________________________________________________________________\nleaky_re_lu_3 (LeakyReLU)       (None, 16, 16, 64)   0           batch_normalization_3[0][0]      \n__________________________________________________________________________________________________\nflatten_1 (Flatten)             (None, 16384)        0           leaky_re_lu_3[0][0]              \n__________________________________________________________________________________________________\nmu (Dense)                      (None, 400)          6554000     flatten_1[0][0]                  \n__________________________________________________________________________________________________\nlog_var (Dense)                 (None, 400)          6554000     flatten_1[0][0]                  \n__________________________________________________________________________________________________\nencoder_output (Lambda)         (None, 400)          0           mu[0][0]                         \n                                                                 log_var[0][0]                    \n==================================================================================================\nTotal params: 13,164,960\nTrainable params: 13,164,640\nNon-trainable params: 320\n__________________________________________________________________________________________________\nModel: \"model_3\"\n_________________________________________________________________\nLayer (type)                 Output Shape              Param #   \n=================================================================\ndecoder_input (InputLayer)   (None, 400)               0         \n_________________________________________________________________\ndense_1 (Dense)              (None, 16384)             6569984   \n_________________________________________________________________\nreshape_1 (Reshape)          (None, 16, 16, 64)        0         \n_________________________________________________________________\ndecoder_conv_t_3b (Conv2DTra (None, 32, 32, 64)        36928     \n_________________________________________________________________\nbatch_normalization_4 (Batch (None, 32, 32, 64)        256       \n_________________________________________________________________\nleaky_re_lu_4 (LeakyReLU)    (None, 32, 32, 64)        0         \n_________________________________________________________________\ndecoder_conv_t_2b (Conv2DTra (None, 64, 64, 64)        36928     \n_________________________________________________________________\nbatch_normalization_5 (Batch (None, 64, 64, 64)        256       \n_________________________________________________________________\nleaky_re_lu_5 (LeakyReLU)    (None, 64, 64, 64)        0         \n_________________________________________________________________\ndecoder_conv_t_1b (Conv2DTra (None, 128, 128, 32)      18464     \n_________________________________________________________________\nbatch_normalization_6 (Batch (None, 128, 128, 32)      128       \n_________________________________________________________________\nleaky_re_lu_6 (LeakyReLU)    (None, 128, 128, 32)      0         \n_________________________________________________________________\ndecoder_conv_t_0b (Conv2DTra (None, 128, 128, 3)       867       \n=================================================================\nTotal params: 6,663,811\nTrainable params: 6,663,491\nNon-trainable params: 320\n_________________________________________________________________\nTotal images: 21\nFound 21 images belonging to 1 classes.\n"
     ]
    }
   ],
   "source": [
    "t = VariationalAutoencoder(image_folder=DATA_FOLDER, run_folder=RUN_FOLDER, train_mode=True, use_dropout=False, z_dim=400)\n",
    "\n",
    "t.compile(learning_rate=LEARNING_RATE, r_loss_factor=R_LOSS_FACTOR)\n",
    "\n",
    "t.encoder.summary()\n",
    "t.decoder.summary()    \n",
    "\n",
    "filenames = np.array(glob(os.path.join(DATA_FOLDER, '*/*.png')))\n",
    "\n",
    "NUM_IMAGES = len(filenames)\n",
    "\n",
    "print('Total images: ' + str(NUM_IMAGES))\n",
    "\n",
    "steps_per_epoch = NUM_IMAGES / BATCH_SIZE\n",
    "data_gen = ImageDataGenerator(rescale=1./255) # 8 BITS X CHANNEL\n",
    "data_flow = data_gen.flow_from_directory(DATA_FOLDER\n",
    "                                         , target_size = INPUT_DIM[:2]\n",
    "                                         , batch_size = BATCH_SIZE\n",
    "                                         , shuffle = True\n",
    "                                         , class_mode = 'input'\n",
    "                                         , subset = \"training\")"
   ]
  },
  {
   "cell_type": "markdown",
   "metadata": {},
   "source": [
    "## train"
   ]
  },
  {
   "cell_type": "code",
   "execution_count": 4,
   "metadata": {},
   "outputs": [
    {
     "name": "stdout",
     "output_type": "stream",
     "text": [
      "Epoch 1/1\n"
     ]
    },
    {
     "name": "stdout",
     "output_type": "stream",
     "text": [
      "\r1/4 [======>.......................] - ETA: 6s - loss: 1252.7450 - vae_r_loss: 853.4535 - vae_kl_loss: 399.2915"
     ]
    },
    {
     "name": "stdout",
     "output_type": "stream",
     "text": [
      "\b\b\b\b\b\b\b\b\b\b\b\b\b\b\b\b\b\b\b\b\b\b\b\b\b\b\b\b\b\b\b\b\b\b\b\b\b\b\b\b\b\b\b\b\b\b\b\b\b\b\b\b\b\b\b\b\b\b\b\b\b\b\b\b\b\b\b\b\b\b\b\b\b\b\b\b\b\b\b\b\b\b\b\b\b\b\b\b\b\b\b\b\b\b\b\b\b\b\b\b\b\b\b\b\b\b\b\b\b\b\b\r2/4 [=============>................] - ETA: 2s - loss: 1331.2708 - vae_r_loss: 791.1244 - vae_kl_loss: 540.1464"
     ]
    },
    {
     "name": "stdout",
     "output_type": "stream",
     "text": [
      "\b\b\b\b\b\b\b\b\b\b\b\b\b\b\b\b\b\b\b\b\b\b\b\b\b\b\b\b\b\b\b\b\b\b\b\b\b\b\b\b\b\b\b\b\b\b\b\b\b\b\b\b\b\b\b\b\b\b\b\b\b\b\b\b\b\b\b\b\b\b\b\b\b\b\b\b\b\b\b\b\b\b\b\b\b\b\b\b\b\b\b\b\b\b\b\b\b\b\b\b\b\b\b\b\b\b\b\b\b\b\b\r3/4 [====================>.........] - ETA: 1s - loss: 1193.3390 - vae_r_loss: 778.1280 - vae_kl_loss: 515.5250"
     ]
    },
    {
     "name": "stdout",
     "output_type": "stream",
     "text": [
      "\b\b\b\b\b\b\b\b\b\b\b\b\b\b\b\b\b\b\b\b\b\b\b\b\b\b\b\b\b\b\b\b\b\b\b\b\b\b\b\b\b\b\b\b\b\b\b\b\b\b\b\b\b\b\b\b\b\b\b\b\b\b\b\b\b\b\b\b\b\b\b\b\b\b\b\b\b\b\b\b\b\b\b\b\b\b\b\b\b\b\b\b\b\b\b\b\b\b\b\b\b\b\b\b\b\b\b\b\b\b\b\r4/4 [===========================>..] - ETA: 0s - loss: 1141.6643 - vae_r_loss: 715.6781 - vae_kl_loss: 482.0334"
     ]
    },
    {
     "name": "stdout",
     "output_type": "stream",
     "text": [
      "\b\b\b\b\b\b\b\b\b\b\b\b\b\b\b\b\b\b\b\b\b\b\b\b\b\b\b\b\b\b\b\b\b\b\b\b\b\b\b\b\b\b\b\b\b\b\b\b\b\b\b\b\b\b\b\b\b\b\b\b\b\b\b\b\b\b\b\b\b\b\b\b\b\b\b\b\b\b\b\b\b\b\b\b\b\b\b\b\b\b\b\b\b\b\b\b\b\b\b\b\b\b\b\b\b\b\b\b\b\b\b\r5/4 [===================================] - 4s 747ms/step - loss: 1091.3785 - vae_r_loss: 665.6429 - vae_kl_loss: 452.4898\n"
     ]
    },
    {
     "name": "stdout",
     "output_type": "stream",
     "text": [
      "\nEpoch 00001: saving model to /Volumes/My Passport/PFM/run/0001_cells_20200504-183620/weights/weights-001-1118.13.h5\n"
     ]
    },
    {
     "name": "stdout",
     "output_type": "stream",
     "text": [
      "\nEpoch 00001: saving model to /Volumes/My Passport/PFM/run/0001_cells_20200504-183620/weights/weights.h5\n"
     ]
    },
    {
     "data": {
      "image/png": "[encoded data removed]",
      "text/plain": [
       "<Figure size 432x288 with 1 Axes>"
      ]
     },
     "metadata": {},
     "output_type": "display_data"
    }
   ],
   "source": [
    "#t.train_with_generator(data_flow = data_flow, epochs = EPOCHS, steps_per_epoch = NUM_IMAGES / BATCH_SIZE, run_folder = RUN_FOLDER, print_every_n_batches = 10)\n",
    "t.train(, epochs = EPOCHS, steps_per_epoch = NUM_IMAGES / BATCH_SIZE, run_folder = RUN_FOLDER, print_every_n_batches = 10)"
   ]
  },
  {
   "cell_type": "code",
   "execution_count": null,
   "metadata": {},
   "outputs": [],
   "source": []
  }
 ],
 "metadata": {
  "kernelspec": {
   "display_name": "Python 3",
   "language": "python",
   "name": "python3"
  },
  "language_info": {
   "codemirror_mode": {
    "name": "ipython",
    "version": 3
   },
   "file_extension": ".py",
   "mimetype": "text/x-python",
   "name": "python",
   "nbconvert_exporter": "python",
   "pygments_lexer": "ipython3",
   "version": "3.6.1"
  }
 },
 "nbformat": 4,
 "nbformat_minor": 2
}
