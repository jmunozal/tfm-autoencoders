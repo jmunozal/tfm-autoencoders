{
 "cells": [
  {
   "cell_type": "markdown",
   "metadata": {},
   "source": [
    "## imports"
   ]
  },
  {
   "cell_type": "code",
   "execution_count": 1,
   "metadata": {},
   "outputs": [
    {
     "name": "stderr",
     "output_type": "stream",
     "text": [
      "Using TensorFlow backend.\n"
     ]
    }
   ],
   "source": [
    "import os, time\n",
    "from glob import glob\n",
    "import numpy as np\n",
    "\n",
    "from model.VariationalAutoencoder import VariationalAutoencoder\n",
    "from keras.preprocessing.image import ImageDataGenerator\n"
   ]
  },
  {
   "cell_type": "markdown",
   "metadata": {},
   "source": [
    "# VAE"
   ]
  },
  {
   "cell_type": "markdown",
   "metadata": {},
   "source": [
    "## model variables"
   ]
  },
  {
   "cell_type": "code",
   "execution_count": 2,
   "metadata": {},
   "outputs": [],
   "source": [
    "DATETIME = time.strftime(\"%Y%m%d-%H%M%S\")\n",
    "\n",
    "LEARNING_RATE = 0.0005\n",
    "R_LOSS_FACTOR = 1000\n",
    "\n",
    "cloud_training = False\n",
    "\n",
    "if cloud_training :\n",
    "    BATCH_SIZE = 200\n",
    "    EPOCHS = 50\n",
    "    DATA_FOLDER = '/data'\n",
    "    RUN_FOLDER = '/tmp/run/'\n",
    "else:\n",
    "    BATCH_SIZE = 5\n",
    "    EPOCHS = 10\n",
    "    DATA_FOLDER = '/Volumes/My Passport/PFM/fastcheck'\n",
    "    RUN_FOLDER =  '/Volumes/My Passport/PFM/run/'\n",
    "    \n",
    "run_id = '0001'\n",
    "data_name = 'cells'\n",
    "RUN_FOLDER += '_'.join([run_id, data_name, DATETIME])\n",
    "\n",
    "INPUT_DIM = (128,128,3)"
   ]
  },
  {
   "cell_type": "markdown",
   "metadata": {},
   "source": [
    "## training setup"
   ]
  },
  {
   "cell_type": "code",
   "execution_count": 3,
   "metadata": {},
   "outputs": [
    {
     "name": "stdout",
     "output_type": "stream",
     "text": [
      "Model: \"model_2\"\n",
      "__________________________________________________________________________________________________\n",
      "Layer (type)                    Output Shape         Param #     Connected to                     \n",
      "==================================================================================================\n",
      "encoder_input (InputLayer)      (None, 128, 128, 3)  0                                            \n",
      "__________________________________________________________________________________________________\n",
      "encoder_conv_1 (Conv2D)         (None, 64, 64, 32)   896         encoder_input[0][0]              \n",
      "__________________________________________________________________________________________________\n",
      "batch_normalization_1 (BatchNor (None, 64, 64, 32)   128         encoder_conv_1[0][0]             \n",
      "__________________________________________________________________________________________________\n",
      "leaky_re_lu_1 (LeakyReLU)       (None, 64, 64, 32)   0           batch_normalization_1[0][0]      \n",
      "__________________________________________________________________________________________________\n",
      "dropout_1 (Dropout)             (None, 64, 64, 32)   0           leaky_re_lu_1[0][0]              \n",
      "__________________________________________________________________________________________________\n",
      "encoder_conv_2 (Conv2D)         (None, 32, 32, 64)   18496       dropout_1[0][0]                  \n",
      "__________________________________________________________________________________________________\n",
      "batch_normalization_2 (BatchNor (None, 32, 32, 64)   256         encoder_conv_2[0][0]             \n",
      "__________________________________________________________________________________________________\n",
      "leaky_re_lu_2 (LeakyReLU)       (None, 32, 32, 64)   0           batch_normalization_2[0][0]      \n",
      "__________________________________________________________________________________________________\n",
      "dropout_2 (Dropout)             (None, 32, 32, 64)   0           leaky_re_lu_2[0][0]              \n",
      "__________________________________________________________________________________________________\n",
      "encoder_conv_3 (Conv2D)         (None, 16, 16, 64)   36928       dropout_2[0][0]                  \n",
      "__________________________________________________________________________________________________\n",
      "batch_normalization_3 (BatchNor (None, 16, 16, 64)   256         encoder_conv_3[0][0]             \n",
      "__________________________________________________________________________________________________\n",
      "leaky_re_lu_3 (LeakyReLU)       (None, 16, 16, 64)   0           batch_normalization_3[0][0]      \n",
      "__________________________________________________________________________________________________\n",
      "dropout_3 (Dropout)             (None, 16, 16, 64)   0           leaky_re_lu_3[0][0]              \n",
      "__________________________________________________________________________________________________\n",
      "flatten_1 (Flatten)             (None, 16384)        0           dropout_3[0][0]                  \n",
      "__________________________________________________________________________________________________\n",
      "mu (Dense)                      (None, 200)          3277000     flatten_1[0][0]                  \n",
      "__________________________________________________________________________________________________\n",
      "log_var (Dense)                 (None, 200)          3277000     flatten_1[0][0]                  \n",
      "__________________________________________________________________________________________________\n",
      "encoder_output (Lambda)         (None, 200)          0           mu[0][0]                         \n",
      "                                                                 log_var[0][0]                    \n",
      "==================================================================================================\n",
      "Total params: 6,610,960\n",
      "Trainable params: 6,610,640\n",
      "Non-trainable params: 320\n",
      "__________________________________________________________________________________________________\n",
      "Model: \"model_3\"\n",
      "_________________________________________________________________\n",
      "Layer (type)                 Output Shape              Param #   \n",
      "=================================================================\n",
      "decoder_input (InputLayer)   (None, 200)               0         \n",
      "_________________________________________________________________\n",
      "dense_1 (Dense)              (None, 16384)             3293184   \n",
      "_________________________________________________________________\n",
      "reshape_1 (Reshape)          (None, 16, 16, 64)        0         \n",
      "_________________________________________________________________\n",
      "decoder_conv_t_3b (Conv2DTra (None, 32, 32, 64)        36928     \n",
      "_________________________________________________________________\n",
      "batch_normalization_4 (Batch (None, 32, 32, 64)        256       \n",
      "_________________________________________________________________\n",
      "leaky_re_lu_4 (LeakyReLU)    (None, 32, 32, 64)        0         \n",
      "_________________________________________________________________\n",
      "dropout_4 (Dropout)          (None, 32, 32, 64)        0         \n",
      "_________________________________________________________________\n",
      "decoder_conv_t_2b (Conv2DTra (None, 64, 64, 64)        36928     \n",
      "_________________________________________________________________\n",
      "batch_normalization_5 (Batch (None, 64, 64, 64)        256       \n",
      "_________________________________________________________________\n",
      "leaky_re_lu_5 (LeakyReLU)    (None, 64, 64, 64)        0         \n",
      "_________________________________________________________________\n",
      "dropout_5 (Dropout)          (None, 64, 64, 64)        0         \n",
      "_________________________________________________________________\n",
      "decoder_conv_t_1b (Conv2DTra (None, 128, 128, 32)      18464     \n",
      "_________________________________________________________________\n",
      "batch_normalization_6 (Batch (None, 128, 128, 32)      128       \n",
      "_________________________________________________________________\n",
      "leaky_re_lu_6 (LeakyReLU)    (None, 128, 128, 32)      0         \n",
      "_________________________________________________________________\n",
      "dropout_6 (Dropout)          (None, 128, 128, 32)      0         \n",
      "_________________________________________________________________\n",
      "decoder_conv_t_0b (Conv2DTra (None, 128, 128, 3)       867       \n",
      "_________________________________________________________________\n",
      "activation_1 (Activation)    (None, 128, 128, 3)       0         \n",
      "=================================================================\n",
      "Total params: 3,387,011\n",
      "Trainable params: 3,386,691\n",
      "Non-trainable params: 320\n",
      "_________________________________________________________________\n",
      "Total images: 21\n",
      "Found 21 images belonging to 1 classes.\n"
     ]
    }
   ],
   "source": [
    "t = VariationalAutoencoder()\n",
    "\n",
    "t.compile(learning_rate=LEARNING_RATE, r_loss_factor=R_LOSS_FACTOR)\n",
    "\n",
    "t.encoder.summary()\n",
    "t.decoder.summary()\n",
    "\n",
    "if not os.path.exists(RUN_FOLDER):\n",
    "    os.mkdir(RUN_FOLDER)\n",
    "    os.mkdir(os.path.join(RUN_FOLDER, 'viz'))\n",
    "    os.mkdir(os.path.join(RUN_FOLDER, 'images'))\n",
    "    os.mkdir(os.path.join(RUN_FOLDER, 'weights'))\n",
    "    \n",
    "\n",
    "filenames = np.array(glob(os.path.join(DATA_FOLDER, '*/*.png')))\n",
    "\n",
    "NUM_IMAGES = len(filenames)\n",
    "\n",
    "print('Total images: ' + str(NUM_IMAGES))\n",
    "\n",
    "steps_per_epoch = NUM_IMAGES / BATCH_SIZE\n",
    "data_gen = ImageDataGenerator(rescale=1./255) # 8 BITS X CHANNEL\n",
    "data_flow = data_gen.flow_from_directory(DATA_FOLDER\n",
    "                                         , target_size = INPUT_DIM[:2]\n",
    "                                         , batch_size = BATCH_SIZE\n",
    "                                         , shuffle = True\n",
    "                                         , class_mode = 'input'\n",
    "                                         , subset = \"training\")"
   ]
  },
  {
   "cell_type": "markdown",
   "metadata": {},
   "source": [
    "## train"
   ]
  },
  {
   "cell_type": "code",
   "execution_count": 4,
   "metadata": {},
   "outputs": [
    {
     "name": "stdout",
     "output_type": "stream",
     "text": [
      "Epoch 1/10\n",
      "5/4 [===================================] - 4s 801ms/step - loss: 511.4018 - vae_r_loss: 261.7446 - vae_kl_loss: 249.5482\n",
      "\n",
      "Epoch 00001: saving model to /Volumes/My Passport/PFM/run/0001_cells_20200409-172746/weights/weights-001-511.29.h5\n",
      "\n",
      "Epoch 00001: saving model to /Volumes/My Passport/PFM/run/0001_cells_20200409-172746/weights/weights.h5\n",
      "Epoch 2/10\n",
      "5/4 [===================================] - 2s 360ms/step - loss: 449.4676 - vae_r_loss: 221.1116 - vae_kl_loss: 225.7960\n",
      "\n",
      "Epoch 00002: saving model to /Volumes/My Passport/PFM/run/0001_cells_20200409-172746/weights/weights-002-446.91.h5\n",
      "\n",
      "Epoch 00002: saving model to /Volumes/My Passport/PFM/run/0001_cells_20200409-172746/weights/weights.h5\n",
      "Epoch 3/10\n",
      "5/4 [===================================] - 2s 440ms/step - loss: 416.0877 - vae_r_loss: 186.1063 - vae_kl_loss: 202.1892\n",
      "\n",
      "Epoch 00003: saving model to /Volumes/My Passport/PFM/run/0001_cells_20200409-172746/weights/weights-003-388.30.h5\n",
      "\n",
      "Epoch 00003: saving model to /Volumes/My Passport/PFM/run/0001_cells_20200409-172746/weights/weights.h5\n",
      "Epoch 4/10\n",
      "5/4 [===================================] - 2s 360ms/step - loss: 334.4075 - vae_r_loss: 149.1240 - vae_kl_loss: 184.4801\n",
      "\n",
      "Epoch 00004: saving model to /Volumes/My Passport/PFM/run/0001_cells_20200409-172746/weights/weights-004-333.60.h5\n",
      "\n",
      "Epoch 00004: saving model to /Volumes/My Passport/PFM/run/0001_cells_20200409-172746/weights/weights.h5\n",
      "Epoch 5/10\n",
      "5/4 [===================================] - 2s 398ms/step - loss: 280.4757 - vae_r_loss: 120.1478 - vae_kl_loss: 162.9470\n",
      "\n",
      "Epoch 00005: saving model to /Volumes/My Passport/PFM/run/0001_cells_20200409-172746/weights/weights-005-283.09.h5\n",
      "\n",
      "Epoch 00005: saving model to /Volumes/My Passport/PFM/run/0001_cells_20200409-172746/weights/weights.h5\n",
      "Epoch 6/10\n",
      "5/4 [===================================] - 2s 357ms/step - loss: 251.7066 - vae_r_loss: 96.1509 - vae_kl_loss: 156.9360\n",
      "\n",
      "Epoch 00006: saving model to /Volumes/My Passport/PFM/run/0001_cells_20200409-172746/weights/weights-006-253.09.h5\n",
      "\n",
      "Epoch 00006: saving model to /Volumes/My Passport/PFM/run/0001_cells_20200409-172746/weights/weights.h5\n",
      "Epoch 7/10\n",
      "5/4 [===================================] - 2s 359ms/step - loss: 221.7191 - vae_r_loss: 74.4355 - vae_kl_loss: 139.3211\n",
      "\n",
      "Epoch 00007: saving model to /Volumes/My Passport/PFM/run/0001_cells_20200409-172746/weights/weights-007-213.76.h5\n",
      "\n",
      "Epoch 00007: saving model to /Volumes/My Passport/PFM/run/0001_cells_20200409-172746/weights/weights.h5\n",
      "Epoch 8/10\n",
      "5/4 [===================================] - 2s 377ms/step - loss: 185.7471 - vae_r_loss: 58.2390 - vae_kl_loss: 129.2912\n",
      "\n",
      "Epoch 00008: saving model to /Volumes/My Passport/PFM/run/0001_cells_20200409-172746/weights/weights-008-187.53.h5\n",
      "\n",
      "Epoch 00008: saving model to /Volumes/My Passport/PFM/run/0001_cells_20200409-172746/weights/weights.h5\n",
      "Epoch 9/10\n",
      "5/4 [===================================] - 2s 355ms/step - loss: 169.7355 - vae_r_loss: 45.8182 - vae_kl_loss: 122.1607\n",
      "\n",
      "Epoch 00009: saving model to /Volumes/My Passport/PFM/run/0001_cells_20200409-172746/weights/weights-009-167.98.h5\n",
      "\n",
      "Epoch 00009: saving model to /Volumes/My Passport/PFM/run/0001_cells_20200409-172746/weights/weights.h5\n",
      "Epoch 10/10\n",
      "5/4 [===================================] - 2s 358ms/step - loss: 143.7634 - vae_r_loss: 37.6808 - vae_kl_loss: 108.9413\n",
      "\n",
      "Epoch 00010: saving model to /Volumes/My Passport/PFM/run/0001_cells_20200409-172746/weights/weights-010-146.62.h5\n",
      "\n",
      "Epoch 00010: saving model to /Volumes/My Passport/PFM/run/0001_cells_20200409-172746/weights/weights.h5\n"
     ]
    }
   ],
   "source": [
    "t.train_with_generator(data_flow = data_flow, epochs = EPOCHS, steps_per_epoch = NUM_IMAGES / BATCH_SIZE, run_folder = RUN_FOLDER, print_every_n_batches = 10)"
   ]
  },
  {
   "cell_type": "code",
   "execution_count": null,
   "metadata": {},
   "outputs": [],
   "source": []
  }
 ],
 "metadata": {
  "kernelspec": {
   "display_name": "Python 3",
   "language": "python",
   "name": "python3"
  },
  "language_info": {
   "codemirror_mode": {
    "name": "ipython",
    "version": 3
   },
   "file_extension": ".py",
   "mimetype": "text/x-python",
   "name": "python",
   "nbconvert_exporter": "python",
   "pygments_lexer": "ipython3",
   "version": "3.6.1"
  }
 },
 "nbformat": 4,
 "nbformat_minor": 2
}
