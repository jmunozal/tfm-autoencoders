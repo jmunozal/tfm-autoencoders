{
 "cells": [
  {
   "cell_type": "markdown",
   "metadata": {},
   "source": [
    "# VAE Training - Faces dataset"
   ]
  },
  {
   "cell_type": "markdown",
   "metadata": {},
   "source": [
    "## imports"
   ]
  },
  {
   "cell_type": "code",
   "execution_count": 5,
   "metadata": {},
   "outputs": [],
   "source": [
    "import os, time\n",
    "from glob import glob\n",
    "import numpy as np\n",
    "\n",
    "from model.VariationalAutoencoder import VariationalAutoencoder\n",
    "from keras.preprocessing.image import ImageDataGenerator\n"
   ]
  },
  {
   "cell_type": "markdown",
   "metadata": {},
   "source": [
    "# environment variables"
   ]
  },
  {
   "cell_type": "code",
   "execution_count": 6,
   "metadata": {},
   "outputs": [],
   "source": [
    "DATA_FOLDER = '/Volumes/My Passport/PFM/fastcheck'\n",
    "RUN_FOLDER = '/Volumes/My Passport/PFM/run/'\n",
    "\n",
    "DATETIME = time.strftime(\"%Y%m%d-%H%M%S\")"
   ]
  },
  {
   "cell_type": "markdown",
   "metadata": {},
   "source": [
    "# VAE"
   ]
  },
  {
   "cell_type": "markdown",
   "metadata": {},
   "source": [
    "## model variables"
   ]
  },
  {
   "cell_type": "code",
   "execution_count": 7,
   "metadata": {},
   "outputs": [],
   "source": [
    "LEARNING_RATE = 0.0005\n",
    "R_LOSS_FACTOR = 1000\n",
    "\n",
    "run_id = '0001'\n",
    "data_name = 'cells'\n",
    "RUN_FOLDER += '_'.join([run_id, data_name, DATETIME])\n",
    "\n",
    "BATCH_SIZE = 5\n",
    "INPUT_DIM = (128,128,3)"
   ]
  },
  {
   "cell_type": "markdown",
   "metadata": {},
   "source": [
    "## training setup"
   ]
  },
  {
   "cell_type": "code",
   "execution_count": 10,
   "metadata": {},
   "outputs": [
    {
     "name": "stdout",
     "output_type": "stream",
     "text": [
      "Model: \"model_10\"\n",
      "__________________________________________________________________________________________________\n",
      "Layer (type)                    Output Shape         Param #     Connected to                     \n",
      "==================================================================================================\n",
      "encoder_input (InputLayer)      (None, 128, 128, 3)  0                                            \n",
      "__________________________________________________________________________________________________\n",
      "encoder_conv_1 (Conv2D)         (None, 64, 64, 32)   896         encoder_input[0][0]              \n",
      "__________________________________________________________________________________________________\n",
      "leaky_re_lu_9 (LeakyReLU)       (None, 64, 64, 32)   0           encoder_conv_1[0][0]             \n",
      "__________________________________________________________________________________________________\n",
      "encoder_conv_2 (Conv2D)         (None, 32, 32, 64)   18496       leaky_re_lu_9[0][0]              \n",
      "__________________________________________________________________________________________________\n",
      "leaky_re_lu_10 (LeakyReLU)      (None, 32, 32, 64)   0           encoder_conv_2[0][0]             \n",
      "__________________________________________________________________________________________________\n",
      "flatten_3 (Flatten)             (None, 65536)        0           leaky_re_lu_10[0][0]             \n",
      "__________________________________________________________________________________________________\n",
      "outpost (Dense)                 (None, 1024)         67109888    flatten_3[0][0]                  \n",
      "__________________________________________________________________________________________________\n",
      "mu (Dense)                      (None, 200)          205000      outpost[0][0]                    \n",
      "__________________________________________________________________________________________________\n",
      "log_var (Dense)                 (None, 200)          205000      outpost[0][0]                    \n",
      "__________________________________________________________________________________________________\n",
      "encoder_output (Lambda)         (None, 200)          0           mu[0][0]                         \n",
      "                                                                 log_var[0][0]                    \n",
      "==================================================================================================\n",
      "Total params: 67,539,280\n",
      "Trainable params: 67,539,280\n",
      "Non-trainable params: 0\n",
      "__________________________________________________________________________________________________\n",
      "Model: \"model_11\"\n",
      "_________________________________________________________________\n",
      "Layer (type)                 Output Shape              Param #   \n",
      "=================================================================\n",
      "decoder_input (InputLayer)   (None, 200)               0         \n",
      "_________________________________________________________________\n",
      "dense_5 (Dense)              (None, 1024)              205824    \n",
      "_________________________________________________________________\n",
      "dense_6 (Dense)              (None, 65536)             67174400  \n",
      "_________________________________________________________________\n",
      "reshape_3 (Reshape)          (None, 32, 32, 64)        0         \n",
      "_________________________________________________________________\n",
      "decoder_conv_t_2b (Conv2DTra (None, 64, 64, 64)        36928     \n",
      "_________________________________________________________________\n",
      "leaky_re_lu_11 (LeakyReLU)   (None, 64, 64, 64)        0         \n",
      "_________________________________________________________________\n",
      "decoder_conv_t_1b (Conv2DTra (None, 128, 128, 32)      18464     \n",
      "_________________________________________________________________\n",
      "leaky_re_lu_12 (LeakyReLU)   (None, 128, 128, 32)      0         \n",
      "_________________________________________________________________\n",
      "conv2d_transpose_3 (Conv2DTr (None, 128, 128, 3)       867       \n",
      "=================================================================\n",
      "Total params: 67,436,483\n",
      "Trainable params: 67,436,483\n",
      "Non-trainable params: 0\n",
      "_________________________________________________________________\n",
      "Total images: 21\n",
      "Found 21 images belonging to 1 classes.\n"
     ]
    }
   ],
   "source": [
    "t = VariationalAutoencoder()\n",
    "\n",
    "t.compile(learning_rate=LEARNING_RATE, r_loss_factor=R_LOSS_FACTOR)\n",
    "\n",
    "t.encoder.summary()\n",
    "t.decoder.summary()\n",
    "\n",
    "if not os.path.exists(RUN_FOLDER):\n",
    "    os.mkdir(RUN_FOLDER)\n",
    "    os.mkdir(os.path.join(RUN_FOLDER, 'viz'))\n",
    "    os.mkdir(os.path.join(RUN_FOLDER, 'images'))\n",
    "    os.mkdir(os.path.join(RUN_FOLDER, 'weights'))\n",
    "    \n",
    "\n",
    "filenames = np.array(glob(os.path.join(DATA_FOLDER, '*/*.png')))\n",
    "\n",
    "NUM_IMAGES = len(filenames)\n",
    "\n",
    "print('Total images: ' + str(NUM_IMAGES))\n",
    "\n",
    "steps_per_epoch = NUM_IMAGES / BATCH_SIZE\n",
    "data_gen = ImageDataGenerator(rescale=1./255) # 8 BITS X CHANNEL\n",
    "data_flow = data_gen.flow_from_directory(DATA_FOLDER\n",
    "                                         , target_size = INPUT_DIM[:2]\n",
    "                                         , batch_size = BATCH_SIZE\n",
    "                                         , shuffle = True\n",
    "                                         , class_mode = 'input'\n",
    "                                         , subset = \"training\")"
   ]
  },
  {
   "cell_type": "markdown",
   "metadata": {},
   "source": [
    "## train"
   ]
  },
  {
   "cell_type": "code",
   "execution_count": 11,
   "metadata": {},
   "outputs": [
    {
     "name": "stdout",
     "output_type": "stream",
     "text": [
      "Epoch 1/10\n",
      "5/4 [===================================] - 18s 4s/step - loss: 7.6987 - vae_r_loss: 7.4909 - vae_kl_loss: 0.0945\n",
      "\n",
      "Epoch 00001: saving model to /Volumes/My Passport/PFM/run/0001_cells_20200405-163203/weights/weights-001-7.59.h5\n",
      "\n",
      "Epoch 00001: saving model to /Volumes/My Passport/PFM/run/0001_cells_20200405-163203/weights/weights.h5\n",
      "Epoch 2/10\n",
      "5/4 [===================================] - 15s 3s/step - loss: 4.8995 - vae_r_loss: 4.9037 - vae_kl_loss: 0.0090\n",
      "\n",
      "Epoch 00002: saving model to /Volumes/My Passport/PFM/run/0001_cells_20200405-163203/weights/weights-002-4.91.h5\n",
      "\n",
      "Epoch 00002: saving model to /Volumes/My Passport/PFM/run/0001_cells_20200405-163203/weights/weights.h5\n",
      "Epoch 3/10\n",
      "5/4 [===================================] - 13s 3s/step - loss: 3.6711 - vae_r_loss: 3.7801 - vae_kl_loss: 0.0114\n",
      "\n",
      "Epoch 00003: saving model to /Volumes/My Passport/PFM/run/0001_cells_20200405-163203/weights/weights-003-3.79.h5\n",
      "\n",
      "Epoch 00003: saving model to /Volumes/My Passport/PFM/run/0001_cells_20200405-163203/weights/weights.h5\n",
      "Epoch 4/10\n",
      "5/4 [===================================] - 20s 4s/step - loss: 3.9250 - vae_r_loss: 4.0440 - vae_kl_loss: 0.0037\n",
      "\n",
      "Epoch 00004: saving model to /Volumes/My Passport/PFM/run/0001_cells_20200405-163203/weights/weights-004-4.05.h5\n",
      "\n",
      "Epoch 00004: saving model to /Volumes/My Passport/PFM/run/0001_cells_20200405-163203/weights/weights.h5\n",
      "Epoch 5/10\n",
      "5/4 [===================================] - 12s 2s/step - loss: 3.6894 - vae_r_loss: 3.7471 - vae_kl_loss: 0.0016\n",
      "\n",
      "Epoch 00005: saving model to /Volumes/My Passport/PFM/run/0001_cells_20200405-163203/weights/weights-005-3.75.h5\n",
      "\n",
      "Epoch 00005: saving model to /Volumes/My Passport/PFM/run/0001_cells_20200405-163203/weights/weights.h5\n",
      "Epoch 6/10\n",
      "5/4 [===================================] - 10s 2s/step - loss: 3.7890 - vae_r_loss: 3.8064 - vae_kl_loss: 0.0018\n",
      "\n",
      "Epoch 00006: saving model to /Volumes/My Passport/PFM/run/0001_cells_20200405-163203/weights/weights-006-3.81.h5\n",
      "\n",
      "Epoch 00006: saving model to /Volumes/My Passport/PFM/run/0001_cells_20200405-163203/weights/weights.h5\n",
      "Epoch 7/10\n",
      "5/4 [===================================] - 11s 2s/step - loss: 3.3060 - vae_r_loss: 3.5382 - vae_kl_loss: 0.0011\n",
      "\n",
      "Epoch 00007: saving model to /Volumes/My Passport/PFM/run/0001_cells_20200405-163203/weights/weights-007-3.54.h5\n",
      "\n",
      "Epoch 00007: saving model to /Volumes/My Passport/PFM/run/0001_cells_20200405-163203/weights/weights.h5\n",
      "Epoch 8/10\n",
      "5/4 [===================================] - 11s 2s/step - loss: 3.8621 - vae_r_loss: 3.6058 - vae_kl_loss: 9.0111e-04\n",
      "\n",
      "Epoch 00008: saving model to /Volumes/My Passport/PFM/run/0001_cells_20200405-163203/weights/weights-008-3.61.h5\n",
      "\n",
      "Epoch 00008: saving model to /Volumes/My Passport/PFM/run/0001_cells_20200405-163203/weights/weights.h5\n",
      "Epoch 9/10\n",
      "5/4 [===================================] - 23s 5s/step - loss: 3.2746 - vae_r_loss: 3.3941 - vae_kl_loss: 9.2617e-04\n",
      "\n",
      "Epoch 00009: saving model to /Volumes/My Passport/PFM/run/0001_cells_20200405-163203/weights/weights-009-3.40.h5\n",
      "\n",
      "Epoch 00009: saving model to /Volumes/My Passport/PFM/run/0001_cells_20200405-163203/weights/weights.h5\n",
      "Epoch 10/10\n",
      "5/4 [===================================] - 16s 3s/step - loss: 3.3743 - vae_r_loss: 3.4922 - vae_kl_loss: 9.6832e-04\n",
      "\n",
      "Epoch 00010: saving model to /Volumes/My Passport/PFM/run/0001_cells_20200405-163203/weights/weights-010-3.49.h5\n",
      "\n",
      "Epoch 00010: saving model to /Volumes/My Passport/PFM/run/0001_cells_20200405-163203/weights/weights.h5\n"
     ]
    }
   ],
   "source": [
    "t.train_with_generator(data_flow = data_flow, epochs = 10, steps_per_epoch = NUM_IMAGES / BATCH_SIZE, run_folder = RUN_FOLDER, print_every_n_batches = 1)"
   ]
  },
  {
   "cell_type": "code",
   "execution_count": null,
   "metadata": {},
   "outputs": [],
   "source": []
  }
 ],
 "metadata": {
  "kernelspec": {
   "display_name": "Python 3",
   "language": "python",
   "name": "python3"
  },
  "language_info": {
   "codemirror_mode": {
    "name": "ipython",
    "version": 3
   },
   "file_extension": ".py",
   "mimetype": "text/x-python",
   "name": "python",
   "nbconvert_exporter": "python",
   "pygments_lexer": "ipython3",
   "version": "3.6.1"
  }
 },
 "nbformat": 4,
 "nbformat_minor": 2
}
