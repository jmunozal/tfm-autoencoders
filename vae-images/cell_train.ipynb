{
 "cells": [
  {
   "cell_type": "markdown",
   "metadata": {},
   "source": [
    "## imports"
   ]
  },
  {
   "cell_type": "code",
   "execution_count": 1,
   "metadata": {},
   "outputs": [
    {
     "name": "stderr",
     "output_type": "stream",
     "text": [
      "Using TensorFlow backend.\n"
     ]
    }
   ],
   "source": [
    "import os, time\n",
    "from glob import glob\n",
    "import numpy as np\n",
    "\n",
    "from model.VariationalAutoencoder import VariationalAutoencoder\n",
    "from keras.preprocessing.image import ImageDataGenerator\n"
   ]
  },
  {
   "cell_type": "markdown",
   "metadata": {},
   "source": [
    "# VAE"
   ]
  },
  {
   "cell_type": "markdown",
   "metadata": {},
   "source": [
    "## model variables"
   ]
  },
  {
   "cell_type": "code",
   "execution_count": 2,
   "metadata": {},
   "outputs": [],
   "source": [
    "DATETIME = time.strftime(\"%Y%m%d-%H%M%S\")\n",
    "\n",
    "LEARNING_RATE = 0.0005\n",
    "R_LOSS_FACTOR = 1000\n",
    "\n",
    "cloud_training = False\n",
    "\n",
    "if cloud_training :\n",
    "    BATCH_SIZE = 200\n",
    "    EPOCHS = 50\n",
    "    DATA_FOLDER = '/data'\n",
    "    RUN_FOLDER = '/tmp/run/'\n",
    "else:\n",
    "    BATCH_SIZE = 5\n",
    "    EPOCHS = 5\n",
    "    DATA_FOLDER = '/Volumes/My Passport/PFM/fastcheck'\n",
    "    RUN_FOLDER =  '/Volumes/My Passport/PFM/run/'\n",
    "    \n",
    "run_id = '0001'\n",
    "data_name = 'cells'\n",
    "RUN_FOLDER += '_'.join([run_id, data_name, DATETIME])\n",
    "\n",
    "INPUT_DIM = (128,128,3)"
   ]
  },
  {
   "cell_type": "markdown",
   "metadata": {},
   "source": [
    "## training setup"
   ]
  },
  {
   "cell_type": "code",
   "execution_count": 3,
   "metadata": {},
   "outputs": [
    {
     "name": "stdout",
     "output_type": "stream",
     "text": [
      "Model: \"model_2\"\n",
      "__________________________________________________________________________________________________\n",
      "Layer (type)                    Output Shape         Param #     Connected to                     \n",
      "==================================================================================================\n",
      "encoder_input (InputLayer)      (None, 128, 128, 3)  0                                            \n",
      "__________________________________________________________________________________________________\n",
      "encoder_conv_1 (Conv2D)         (None, 64, 64, 32)   896         encoder_input[0][0]              \n",
      "__________________________________________________________________________________________________\n",
      "leaky_re_lu_1 (LeakyReLU)       (None, 64, 64, 32)   0           encoder_conv_1[0][0]             \n",
      "__________________________________________________________________________________________________\n",
      "encoder_conv_2 (Conv2D)         (None, 32, 32, 64)   18496       leaky_re_lu_1[0][0]              \n",
      "__________________________________________________________________________________________________\n",
      "leaky_re_lu_2 (LeakyReLU)       (None, 32, 32, 64)   0           encoder_conv_2[0][0]             \n",
      "__________________________________________________________________________________________________\n",
      "encoder_conv_3 (Conv2D)         (None, 16, 16, 64)   36928       leaky_re_lu_2[0][0]              \n",
      "__________________________________________________________________________________________________\n",
      "leaky_re_lu_3 (LeakyReLU)       (None, 16, 16, 64)   0           encoder_conv_3[0][0]             \n",
      "__________________________________________________________________________________________________\n",
      "flatten_1 (Flatten)             (None, 16384)        0           leaky_re_lu_3[0][0]              \n",
      "__________________________________________________________________________________________________\n",
      "outpost (Dense)                 (None, 4096)         67112960    flatten_1[0][0]                  \n",
      "__________________________________________________________________________________________________\n",
      "mu (Dense)                      (None, 200)          819400      outpost[0][0]                    \n",
      "__________________________________________________________________________________________________\n",
      "log_var (Dense)                 (None, 200)          819400      outpost[0][0]                    \n",
      "__________________________________________________________________________________________________\n",
      "encoder_output (Lambda)         (None, 200)          0           mu[0][0]                         \n",
      "                                                                 log_var[0][0]                    \n",
      "==================================================================================================\n",
      "Total params: 68,808,080\n",
      "Trainable params: 68,808,080\n",
      "Non-trainable params: 0\n",
      "__________________________________________________________________________________________________\n",
      "Model: \"model_3\"\n",
      "_________________________________________________________________\n",
      "Layer (type)                 Output Shape              Param #   \n",
      "=================================================================\n",
      "decoder_input (InputLayer)   (None, 200)               0         \n",
      "_________________________________________________________________\n",
      "dense_1 (Dense)              (None, 4096)              823296    \n",
      "_________________________________________________________________\n",
      "dense_2 (Dense)              (None, 16384)             67125248  \n",
      "_________________________________________________________________\n",
      "reshape_1 (Reshape)          (None, 16, 16, 64)        0         \n",
      "_________________________________________________________________\n",
      "decoder_conv_t_3b (Conv2DTra (None, 32, 32, 64)        36928     \n",
      "_________________________________________________________________\n",
      "leaky_re_lu_4 (LeakyReLU)    (None, 32, 32, 64)        0         \n",
      "_________________________________________________________________\n",
      "decoder_conv_t_2b (Conv2DTra (None, 64, 64, 64)        36928     \n",
      "_________________________________________________________________\n",
      "leaky_re_lu_5 (LeakyReLU)    (None, 64, 64, 64)        0         \n",
      "_________________________________________________________________\n",
      "decoder_conv_t_1b (Conv2DTra (None, 128, 128, 32)      18464     \n",
      "_________________________________________________________________\n",
      "leaky_re_lu_6 (LeakyReLU)    (None, 128, 128, 32)      0         \n",
      "_________________________________________________________________\n",
      "conv2d_transpose_1 (Conv2DTr (None, 128, 128, 3)       867       \n",
      "=================================================================\n",
      "Total params: 68,041,731\n",
      "Trainable params: 68,041,731\n",
      "Non-trainable params: 0\n",
      "_________________________________________________________________\n",
      "Total images: 21\n",
      "Found 21 images belonging to 1 classes.\n"
     ]
    }
   ],
   "source": [
    "t = VariationalAutoencoder()\n",
    "\n",
    "t.compile(learning_rate=LEARNING_RATE, r_loss_factor=R_LOSS_FACTOR)\n",
    "\n",
    "t.encoder.summary()\n",
    "t.decoder.summary()\n",
    "\n",
    "if not os.path.exists(RUN_FOLDER):\n",
    "    os.mkdir(RUN_FOLDER)\n",
    "    os.mkdir(os.path.join(RUN_FOLDER, 'viz'))\n",
    "    os.mkdir(os.path.join(RUN_FOLDER, 'images'))\n",
    "    os.mkdir(os.path.join(RUN_FOLDER, 'weights'))\n",
    "    \n",
    "\n",
    "filenames = np.array(glob(os.path.join(DATA_FOLDER, '*/*.png')))\n",
    "\n",
    "NUM_IMAGES = len(filenames)\n",
    "\n",
    "print('Total images: ' + str(NUM_IMAGES))\n",
    "\n",
    "steps_per_epoch = NUM_IMAGES / BATCH_SIZE\n",
    "data_gen = ImageDataGenerator(rescale=1./255) # 8 BITS X CHANNEL\n",
    "data_flow = data_gen.flow_from_directory(DATA_FOLDER\n",
    "                                         , target_size = INPUT_DIM[:2]\n",
    "                                         , batch_size = BATCH_SIZE\n",
    "                                         , shuffle = True\n",
    "                                         , class_mode = 'input'\n",
    "                                         , subset = \"training\")"
   ]
  },
  {
   "cell_type": "markdown",
   "metadata": {},
   "source": [
    "## train"
   ]
  },
  {
   "cell_type": "code",
   "execution_count": 4,
   "metadata": {},
   "outputs": [
    {
     "name": "stdout",
     "output_type": "stream",
     "text": [
      "Epoch 1/5\n",
      "5/4 [===================================] - 19s 4s/step - loss: 8.7382 - vae_r_loss: 7.7696 - vae_kl_loss: 0.0237\n",
      "\n",
      "Epoch 00001: saving model to /Volumes/My Passport/PFM/run/0001_cells_20200408-140656/weights/weights-001-7.79.h5\n",
      "\n",
      "Epoch 00001: saving model to /Volumes/My Passport/PFM/run/0001_cells_20200408-140656/weights/weights.h5\n",
      "Epoch 2/5\n",
      "5/4 [===================================] - 15s 3s/step - loss: 5.1332 - vae_r_loss: 4.9989 - vae_kl_loss: 0.0283\n",
      "\n",
      "Epoch 00002: saving model to /Volumes/My Passport/PFM/run/0001_cells_20200408-140656/weights/weights-002-5.03.h5\n",
      "\n",
      "Epoch 00002: saving model to /Volumes/My Passport/PFM/run/0001_cells_20200408-140656/weights/weights.h5\n",
      "Epoch 3/5\n",
      "5/4 [===================================] - 14s 3s/step - loss: 3.9737 - vae_r_loss: 3.9840 - vae_kl_loss: 0.0251\n",
      "\n",
      "Epoch 00003: saving model to /Volumes/My Passport/PFM/run/0001_cells_20200408-140656/weights/weights-003-4.01.h5\n",
      "\n",
      "Epoch 00003: saving model to /Volumes/My Passport/PFM/run/0001_cells_20200408-140656/weights/weights.h5\n",
      "Epoch 4/5\n",
      "5/4 [===================================] - 16s 3s/step - loss: 3.9474 - vae_r_loss: 3.9650 - vae_kl_loss: 0.0294\n",
      "\n",
      "Epoch 00004: saving model to /Volumes/My Passport/PFM/run/0001_cells_20200408-140656/weights/weights-004-3.99.h5\n",
      "\n",
      "Epoch 00004: saving model to /Volumes/My Passport/PFM/run/0001_cells_20200408-140656/weights/weights.h5\n",
      "Epoch 5/5\n",
      "5/4 [===================================] - 18s 4s/step - loss: 3.4341 - vae_r_loss: 3.6305 - vae_kl_loss: 0.0077\n",
      "\n",
      "Epoch 00005: saving model to /Volumes/My Passport/PFM/run/0001_cells_20200408-140656/weights/weights-005-3.64.h5\n",
      "\n",
      "Epoch 00005: saving model to /Volumes/My Passport/PFM/run/0001_cells_20200408-140656/weights/weights.h5\n"
     ]
    }
   ],
   "source": [
    "t.train_with_generator(data_flow = data_flow, epochs = EPOCHS, steps_per_epoch = NUM_IMAGES / BATCH_SIZE, run_folder = RUN_FOLDER, print_every_n_batches = 10)"
   ]
  },
  {
   "cell_type": "code",
   "execution_count": null,
   "metadata": {},
   "outputs": [],
   "source": []
  }
 ],
 "metadata": {
  "kernelspec": {
   "display_name": "Python 3",
   "language": "python",
   "name": "python3"
  },
  "language_info": {
   "codemirror_mode": {
    "name": "ipython",
    "version": 3
   },
   "file_extension": ".py",
   "mimetype": "text/x-python",
   "name": "python",
   "nbconvert_exporter": "python",
   "pygments_lexer": "ipython3",
   "version": "3.6.1"
  }
 },
 "nbformat": 4,
 "nbformat_minor": 2
}
